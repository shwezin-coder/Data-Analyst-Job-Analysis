{
 "cells": [
  {
   "cell_type": "code",
   "execution_count": null,
   "id": "45a30427",
   "metadata": {
    "scrolled": false
   },
   "outputs": [],
   "source": [
    "import pandas as pd\n",
    "from sklearn.preprocessing import MultiLabelBinarizer\n",
    "import re\n",
    "\n",
    "# Read Excel\n",
    "df = pd.read_excel(r'C:/Users/hninshwezinhlaing/Documents/DataAnalystJobAnalysis/Data_Analyst_Jobs.xlsx')\n",
    "\n",
    "#data analysis skill patterns\n",
    "data_analysis_skills_patterns = {\n",
    "    \"Excel\": [r\"\\bExcel\\b\"],\n",
    "    \"Statistical Analysis\": [r\"\\bstatistical\\sanalysis\\b\"],\n",
    "    \"PowerBI\":[r\"\\bPowerBI\\b\"],\n",
    "    \"Tableau\":[r\"\\bTableau\\b\"],\n",
    "    \"Oracle\":[r\"\\bOracle\\b\"],\n",
    "    \"BigData\":[r\"\\bBigData\\b\"],\n",
    "    \"BigQuery\": [r\"\\bBigQuery\\b\"],\n",
    "    \"Visualization\": [r\"\\bvisualization\\b\", r\"\\bcharts\\b\", r\"\\bgraphs\\b\", r\"\\bdashboards\\b\"],\n",
    "    \"Python\":[r\"\\bPython\\b\"],\n",
    "    \"R\":[r\"\\bR\\b\"],\n",
    "    \"Data Manipulation\": [r\"\\bdata\\smanipulation\\b\", r\"\\bdata\\scleaning\\b\", r\"\\bdata\\spreprocessing\\b\", r\"\\bdata\\stransformation\\b\"],\n",
    "    \"Machine Learning\": [r\"\\bmachine\\slearning\\b\", r\"\\bpredictive\\smodeling\\b\", r\"\\bclassification\\b\", r\"\\bclustering\\b\", r\"\\bregression\\sanalysis\\b\"],\n",
    "    \"SQL\": [r\"\\bSQL\\b\", r\"\\bSQL\\squeries\\b\"],\n",
    "    \"Data Warehousing\":[r\"Data Warehousing\"],\n",
    "    \"Data Mining\":[r\"Data Mining\"],\n",
    "    \"Critical Thinking\": [r\"\\bcritical\\sthinking\\b\", r\"\\bproblem\\ssolving\\b\", r\"\\banalytical\\sthinking\\b\", r\"\\bsolution\\sdevelopment\\b\"],\n",
    "    \"Communication Skills\": [r\"\\bcommunication\\sskills\\b\", r\"\\breport\\swriting\\b\", r\"\\bpresentation\\sskills\\b\", r\"\\beffective\\scommunication\\b\"],\n",
    "    \"Experience\": [r\"\\b(?:\\d+\\s+years?\\s(?:of\\swork\\s)?experience|working\\s(?:\\d+\\s+)?years?\\sexperience)\\b\"]\n",
    "}\n",
    "\n",
    "# Initialize MultiLabelBinarizer for one hot encoding\n",
    "mlb = MultiLabelBinarizer()\n",
    "\n",
    "# Initialize DataFrame to store encoded skills\n",
    "encoded_skills_df = pd.DataFrame(mlb.fit_transform(df['Job Description'].apply(lambda x: [name for name, patterns in data_analysis_skills_patterns.items() for pattern in patterns if re.search(pattern, x, flags=re.IGNORECASE)])),\n",
    "                                  columns=[name for name in data_analysis_skills_patterns.keys()],\n",
    "                                  index=df.index)\n",
    "\n",
    "# Extract years of experience from job description and add as a new column\n",
    "experience = df['Job Description'].str.extract(r'(\\d+)\\s*(?:years?\\s(?:of\\swork\\s)?experience|working\\s(\\d+)\\s?years?\\s?experience)', flags=re.IGNORECASE)\n",
    "experience = experience.fillna(0).astype(float).max(axis=1)  # Handle missing values and convert to float\n",
    "encoded_skills_df['Experience'] = experience\n",
    "\n",
    "#added JobID column\n",
    "encoded_skills_df.insert(0, 'JobID', df['Job ID'])\n",
    "\n",
    "# Save the encoded dataset to a new file\n",
    "encoded_skills_df.to_excel(r'C:/Users/hninshwezinhlaing/Documents/DataAnalystJobAnalysis/skills.xlsx', index=False)"
   ]
  },
  {
   "cell_type": "code",
   "execution_count": null,
   "id": "66a53e5a",
   "metadata": {},
   "outputs": [],
   "source": []
  }
 ],
 "metadata": {
  "kernelspec": {
   "display_name": "Python 3 (ipykernel)",
   "language": "python",
   "name": "python3"
  },
  "language_info": {
   "codemirror_mode": {
    "name": "ipython",
    "version": 3
   },
   "file_extension": ".py",
   "mimetype": "text/x-python",
   "name": "python",
   "nbconvert_exporter": "python",
   "pygments_lexer": "ipython3",
   "version": "3.11.5"
  }
 },
 "nbformat": 4,
 "nbformat_minor": 5
}
